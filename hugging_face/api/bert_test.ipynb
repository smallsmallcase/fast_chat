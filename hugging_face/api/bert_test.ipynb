{
 "cells": [
  {
   "cell_type": "code",
   "execution_count": 1,
   "id": "f26344cb",
   "metadata": {},
   "outputs": [
    {
     "name": "stderr",
     "output_type": "stream",
     "text": [
      "/home/codespace/.python/current/lib/python3.12/site-packages/tqdm/auto.py:21: TqdmWarning: IProgress not found. Please update jupyter and ipywidgets. See https://ipywidgets.readthedocs.io/en/stable/user_install.html\n",
      "  from .autonotebook import tqdm as notebook_tqdm\n",
      "Some weights of the model checkpoint at google-bert/bert-base-uncased were not used when initializing BertForMaskedLM: ['bert.pooler.dense.bias', 'bert.pooler.dense.weight', 'cls.seq_relationship.bias', 'cls.seq_relationship.weight']\n",
      "- This IS expected if you are initializing BertForMaskedLM from the checkpoint of a model trained on another task or with another architecture (e.g. initializing a BertForSequenceClassification model from a BertForPreTraining model).\n",
      "- This IS NOT expected if you are initializing BertForMaskedLM from the checkpoint of a model that you expect to be exactly identical (initializing a BertForSequenceClassification model from a BertForSequenceClassification model).\n",
      "Device set to use cpu\n"
     ]
    },
    {
     "name": "stdout",
     "output_type": "stream",
     "text": [
      "\n",
      " print result begin>>>>>>>>>>>>>>>>>> \n",
      "\n",
      "different 0.108642578125\n",
      "all 0.047271728515625\n",
      "her 0.0452880859375\n",
      "the 0.043731689453125\n",
      "bright 0.040130615234375\n"
     ]
    }
   ],
   "source": [
    "import torch\n",
    "from transformers import pipeline\n",
    "\n",
    "pipeline = pipeline(\n",
    "    task=\"fill-mask\",\n",
    "    model=\"google-bert/bert-base-uncased\",\n",
    "    torch_dtype=torch.float16,\n",
    "    device=0\n",
    ")\n",
    "result =  pipeline(\"my daughter like [MASK] color clothes and shoes\")\n",
    "print(\"\\n print result begin>>>>>>>>>>>>>>>>>> \\n\")\n",
    "for item in result:\n",
    "    print(item['token_str'], item['score'])"
   ]
  },
  {
   "cell_type": "code",
   "execution_count": 2,
   "id": "76a4be99",
   "metadata": {},
   "outputs": [
    {
     "name": "stderr",
     "output_type": "stream",
     "text": [
      "No model was supplied, defaulted to dbmdz/bert-large-cased-finetuned-conll03-english and revision 4c53496 (https://huggingface.co/dbmdz/bert-large-cased-finetuned-conll03-english).\n",
      "Using a pipeline without specifying a model name and revision in production is not recommended.\n",
      "Some weights of the model checkpoint at dbmdz/bert-large-cased-finetuned-conll03-english were not used when initializing BertForTokenClassification: ['bert.pooler.dense.bias', 'bert.pooler.dense.weight']\n",
      "- This IS expected if you are initializing BertForTokenClassification from the checkpoint of a model trained on another task or with another architecture (e.g. initializing a BertForSequenceClassification model from a BertForPreTraining model).\n",
      "- This IS NOT expected if you are initializing BertForTokenClassification from the checkpoint of a model that you expect to be exactly identical (initializing a BertForSequenceClassification model from a BertForSequenceClassification model).\n",
      "Device set to use cpu\n",
      "/home/codespace/.python/current/lib/python3.12/site-packages/transformers/pipelines/token_classification.py:181: UserWarning: `grouped_entities` is deprecated and will be removed in version v5.0.0, defaulted to `aggregation_strategy=\"AggregationStrategy.SIMPLE\"` instead.\n",
      "  warnings.warn(\n"
     ]
    },
    {
     "name": "stdout",
     "output_type": "stream",
     "text": [
      "Sylvain: PER (score: 1.00)\n",
      "Hugging Face: ORG (score: 0.98)\n",
      "Brooklyn: LOC (score: 0.99)\n"
     ]
    }
   ],
   "source": [
    "from transformers import pipeline\n",
    "\n",
    "ner = pipeline(\"ner\", grouped_entities=True)\n",
    "result = ner(\"My name is Sylvain and I work at Hugging Face in Brooklyn.\")\n",
    "for entity in result:\n",
    "    print(f\"{entity['word']}: {entity['entity_group']} (score: {entity['score']:.2f})\")"
   ]
  },
  {
   "cell_type": "code",
   "execution_count": 4,
   "id": "cd587725",
   "metadata": {},
   "outputs": [
    {
     "name": "stderr",
     "output_type": "stream",
     "text": [
      "Device set to use cpu\n",
      "Asking to truncate to max_length but no maximum length is provided and the model has no predefined maximum length. Default to no truncation.\n"
     ]
    },
    {
     "name": "stdout",
     "output_type": "stream",
     "text": [
      "app crash: 0.7126\n",
      "mobile: 0.2840\n",
      "account access: 0.0015\n",
      "billing: 0.0014\n",
      "website: 0.0005\n"
     ]
    }
   ],
   "source": [
    "from transformers import pipeline\n",
    "\n",
    "# Load the Zero-Shot Classification pipeline\n",
    "classifier = pipeline(\"zero-shot-classification\", model=\"syedkhalid076/DeBERTa-Zero-Shot-Classification\")\n",
    "\n",
    "# Input sequence and candidate labels\n",
    "sequence_to_classify = \"Last week I upgraded my iOS version and ever since then your app is crashing.\"\n",
    "candidate_labels = [\"mobile\", \"website\", \"billing\", \"account access\", \"app crash\"]\n",
    "\n",
    "# Perform classification\n",
    "output = classifier(sequence_to_classify, candidate_labels, multi_label=False)\n",
    "for label, score in zip(output['labels'], output['scores']):\n",
    "    print(f\"{label}: {score:.4f}\")\n"
   ]
  }
 ],
 "metadata": {
  "kernelspec": {
   "display_name": "Python 3",
   "language": "python",
   "name": "python3"
  },
  "language_info": {
   "codemirror_mode": {
    "name": "ipython",
    "version": 3
   },
   "file_extension": ".py",
   "mimetype": "text/x-python",
   "name": "python",
   "nbconvert_exporter": "python",
   "pygments_lexer": "ipython3",
   "version": "3.12.1"
  }
 },
 "nbformat": 4,
 "nbformat_minor": 5
}
