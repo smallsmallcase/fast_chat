{
 "cells": [
  {
   "cell_type": "code",
   "execution_count": 2,
   "id": "f26344cb",
   "metadata": {},
   "outputs": [
    {
     "name": "stderr",
     "output_type": "stream",
     "text": [
      "Some weights of the model checkpoint at google-bert/bert-base-uncased were not used when initializing BertForMaskedLM: ['bert.pooler.dense.bias', 'bert.pooler.dense.weight', 'cls.seq_relationship.bias', 'cls.seq_relationship.weight']\n",
      "- This IS expected if you are initializing BertForMaskedLM from the checkpoint of a model trained on another task or with another architecture (e.g. initializing a BertForSequenceClassification model from a BertForPreTraining model).\n",
      "- This IS NOT expected if you are initializing BertForMaskedLM from the checkpoint of a model that you expect to be exactly identical (initializing a BertForSequenceClassification model from a BertForSequenceClassification model).\n",
      "Device set to use cpu\n"
     ]
    },
    {
     "data": {
      "text/plain": [
       "[{'score': 0.151123046875,\n",
       "  'token': 2943,\n",
       "  'token_str': 'energy',\n",
       "  'sequence': 'plants create energy through a process known as photosynthesis.'},\n",
       " {'score': 0.145263671875,\n",
       "  'token': 4870,\n",
       "  'token_str': 'flowers',\n",
       "  'sequence': 'plants create flowers through a process known as photosynthesis.'},\n",
       " {'score': 0.0821533203125,\n",
       "  'token': 9325,\n",
       "  'token_str': 'sunlight',\n",
       "  'sequence': 'plants create sunlight through a process known as photosynthesis.'},\n",
       " {'score': 0.042938232421875,\n",
       "  'token': 18670,\n",
       "  'token_str': 'algae',\n",
       "  'sequence': 'plants create algae through a process known as photosynthesis.'},\n",
       " {'score': 0.03759765625,\n",
       "  'token': 12649,\n",
       "  'token_str': 'atp',\n",
       "  'sequence': 'plants create atp through a process known as photosynthesis.'}]"
      ]
     },
     "execution_count": 2,
     "metadata": {},
     "output_type": "execute_result"
    }
   ],
   "source": [
    "import torch\n",
    "from transformers import pipeline\n",
    "\n",
    "pipeline = pipeline(\n",
    "    task=\"fill-mask\",\n",
    "    model=\"google-bert/bert-base-uncased\",\n",
    "    torch_dtype=torch.float16,\n",
    "    device=0\n",
    ")\n",
    "pipeline(\"Plants create [MASK] through a process known as photosynthesis.\")"
   ]
  }
 ],
 "metadata": {
  "kernelspec": {
   "display_name": "Python 3",
   "language": "python",
   "name": "python3"
  },
  "language_info": {
   "codemirror_mode": {
    "name": "ipython",
    "version": 3
   },
   "file_extension": ".py",
   "mimetype": "text/x-python",
   "name": "python",
   "nbconvert_exporter": "python",
   "pygments_lexer": "ipython3",
   "version": "3.12.1"
  }
 },
 "nbformat": 4,
 "nbformat_minor": 5
}
